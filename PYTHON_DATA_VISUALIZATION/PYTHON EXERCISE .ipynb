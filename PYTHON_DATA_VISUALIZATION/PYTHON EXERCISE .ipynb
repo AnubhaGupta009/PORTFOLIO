{
 "cells": [
  {
   "cell_type": "code",
   "execution_count": 1,
   "id": "19d4dba1",
   "metadata": {},
   "outputs": [],
   "source": [
    "#Exercise 1: Mailing Address\n"
   ]
  },
  {
   "cell_type": "code",
   "execution_count": 1,
   "id": "e3563d74",
   "metadata": {},
   "outputs": [
    {
     "name": "stdout",
     "output_type": "stream",
     "text": [
      "REKHA GUPTA\n",
      "3rd Floor Shraddhapuri phase2\n",
      "Dorrola\n",
      "Meerut Pincode- 242001\n",
      "7943478966\n"
     ]
    }
   ],
   "source": [
    "print(\"REKHA GUPTA\")\n",
    "print(\"3rd Floor Shraddhapuri phase2\")\n",
    "print(\"Dorrola\")\n",
    "print(\"Meerut Pincode- 242001\")\n",
    "print(\"7943478966\")"
   ]
  },
  {
   "cell_type": "code",
   "execution_count": 3,
   "id": "278e565d",
   "metadata": {},
   "outputs": [],
   "source": [
    "#HELLOW"
   ]
  },
  {
   "cell_type": "code",
   "execution_count": 4,
   "id": "73e273d5",
   "metadata": {},
   "outputs": [
    {
     "name": "stdout",
     "output_type": "stream",
     "text": [
      "Enter your name - ANUBHHA\n",
      "Hellow ANUBHHA\n"
     ]
    }
   ],
   "source": [
    "name =input(\"Enter your name - \")\n",
    "print(\"Hellow\",name)"
   ]
  },
  {
   "cell_type": "code",
   "execution_count": 5,
   "id": "00ba0a79",
   "metadata": {},
   "outputs": [],
   "source": [
    "#Exercise 3: Area of a Room\n"
   ]
  },
  {
   "cell_type": "code",
   "execution_count": 6,
   "id": "b149b2b5",
   "metadata": {},
   "outputs": [
    {
     "name": "stdout",
     "output_type": "stream",
     "text": [
      "Please enter the Length - 25\n",
      "Please enter the Width - 1252\n",
      "Area of Room : 31300.0 SQRT_PER_FEET\n"
     ]
    }
   ],
   "source": [
    "L=float(input(\"Please enter the Length - \"))\n",
    "W=float(input(\"Please enter the Width - \"))\n",
    "area = (L*W)\n",
    "print(f\"Area of Room : {area} SQRT_PER_FEET\") \n"
   ]
  },
  {
   "cell_type": "markdown",
   "id": "dd2290ab",
   "metadata": {},
   "source": [
    "\n",
    "###### Area of a Field"
   ]
  },
  {
   "cell_type": "code",
   "execution_count": 7,
   "id": "86267b1c",
   "metadata": {},
   "outputs": [
    {
     "name": "stdout",
     "output_type": "stream",
     "text": [
      "Please enter the Length - 2532\n",
      "Please enter the Width - 4\n",
      "Area of field : 0.2325068870523416 acre\n"
     ]
    }
   ],
   "source": [
    "SQRT_PER_ACRE = 43560\n",
    "L=float(input(\"Please enter the Length - \"))\n",
    "W=float(input(\"Please enter the Width - \"))\n",
    "acre = (L*W/SQRT_PER_ACRE)\n",
    "print(f\"Area of field : {acre} acre\") "
   ]
  },
  {
   "cell_type": "markdown",
   "id": "e05a5c30",
   "metadata": {},
   "source": [
    "#####  Bottle Deposits\n"
   ]
  },
  {
   "cell_type": "code",
   "execution_count": 10,
   "id": "c9e277c3",
   "metadata": {},
   "outputs": [
    {
     "name": "stdout",
     "output_type": "stream",
     "text": [
      "Enter the number of small containers - 689\n",
      "Enter the number of large containers - 689\n",
      "The total refund for returning the containers is $241.15\n",
      "The total refund is $241.15\n"
     ]
    }
   ],
   "source": [
    "Less_Deposit = 0.10\n",
    "More_Deposit = 0.25\n",
    "small_container = int(input(\"Enter the number of small containers - \"))\n",
    "\n",
    "large_container = int(input(\"Enter the number of large containers - \"))\n",
    "\n",
    "refund = (small_container * 0.10) + (large_container * 0.25)\n",
    "\n",
    "print(\"The total refund for returning the containers is $\" + \"{0:.2f}\".format(float(refund)))\n",
    "print(\"The total refund is $\" + \"{0:.2f}\".format(float(refund)))"
   ]
  },
  {
   "cell_type": "code",
   "execution_count": 11,
   "id": "c97e38bc",
   "metadata": {},
   "outputs": [],
   "source": [
    "#Tax and Tip"
   ]
  },
  {
   "cell_type": "code",
   "execution_count": 12,
   "id": "b689cea6",
   "metadata": {},
   "outputs": [
    {
     "name": "stdout",
     "output_type": "stream",
     "text": [
      "Enter the meal cost - 446\n",
      "The tax is 22.30\n",
      "The tip is 80.28\n",
      "The total_cost is 548.58\n"
     ]
    }
   ],
   "source": [
    "TOT_TAX = 0.05\n",
    "TOT_TIP = 0.18\n",
    "COST = int(input(\"Enter the meal cost - \"))\n",
    "TAX = (COST * 0.05)\n",
    "TIP = (COST * 0.18)\n",
    "TOTAL = (COST + TAX + TIP)\n",
    "print(\"The tax is \" + \"{0:.2f}\".format(float(TAX)))\n",
    "print(\"The tip is \" + \"{0:.2f}\".format(float(TIP)))\n",
    "print(\"The total_cost is \" + \"{0:.2f}\".format(float(TOTAL)))"
   ]
  },
  {
   "cell_type": "code",
   "execution_count": 30,
   "id": "30379bb2",
   "metadata": {},
   "outputs": [],
   "source": [
    "#Exercise 7: Fuel Efficiency\n"
   ]
  },
  {
   "cell_type": "code",
   "execution_count": 18,
   "id": "668b9f09",
   "metadata": {},
   "outputs": [],
   "source": [
    "#### 1 MPG = 235.215 L/100KM"
   ]
  },
  {
   "cell_type": "code",
   "execution_count": 19,
   "id": "0c69c3aa",
   "metadata": {},
   "outputs": [
    {
     "name": "stdout",
     "output_type": "stream",
     "text": [
      "No.of MPG: 500\n",
      "The fuel efficiency  in candian units is 117607.5 L/100km\n"
     ]
    }
   ],
   "source": [
    "MPG=int(input(\"No.of MPG: \"))\n",
    "l_p100=MPG*235.215\n",
    "print(\"The fuel efficiency  in candian units is\", l_p100, \"L/100km\")"
   ]
  }
 ],
 "metadata": {
  "kernelspec": {
   "display_name": "Python 3 (ipykernel)",
   "language": "python",
   "name": "python3"
  },
  "language_info": {
   "codemirror_mode": {
    "name": "ipython",
    "version": 3
   },
   "file_extension": ".py",
   "mimetype": "text/x-python",
   "name": "python",
   "nbconvert_exporter": "python",
   "pygments_lexer": "ipython3",
   "version": "3.10.9"
  }
 },
 "nbformat": 4,
 "nbformat_minor": 5
}

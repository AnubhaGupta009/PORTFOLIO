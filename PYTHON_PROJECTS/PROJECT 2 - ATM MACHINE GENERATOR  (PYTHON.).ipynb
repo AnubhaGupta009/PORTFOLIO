{
 "cells": [
  {
   "cell_type": "markdown",
   "id": "beec12e1",
   "metadata": {},
   "source": [
    " # ATM MACHINE GENERATOR "
   ]
  },
  {
   "cell_type": "code",
   "execution_count": 3,
   "id": "0906a257",
   "metadata": {},
   "outputs": [
    {
     "name": "stdout",
     "output_type": "stream",
     "text": [
      "Please Insert Your Card\n",
      "Enter your 4 digit pin1234\n",
      "\n",
      "            1 == Balance\n",
      "            2 == Widhdrawl\n",
      "            3 == Deposit\n",
      "            4 == Exit\n",
      "Choose the option mentioned \n",
      "Enter your choise - 3\n",
      "Enter the Deposit Amount - 50000\n",
      "Insert the Notes into deposite Box\n",
      "Your Updated Account Balance is 550000\n"
     ]
    }
   ],
   "source": [
    "import time\n",
    "while True:\n",
    "    print(\"Please Insert Your Card\")\n",
    "    time.sleep(3)\n",
    "    Password = 1234\n",
    "    balance =500000\n",
    "\n",
    "    pin=int(input(\"Enter your 4 digit pin\"))\n",
    "    while True:\n",
    "        if pin == Password:\n",
    "            print(\"\"\"\n",
    "            1 == Balance\n",
    "            2 == Widhdrawl\n",
    "            3 == Deposit\n",
    "            4 == Exit\"\"\")\n",
    "            print(\"Choose the option mentioned \")\n",
    "            Option =int(input(\"Enter your choise - \"))\n",
    "            if Option == 1:\n",
    "                print(\"Your Account Balance is\",balance)\n",
    "                \n",
    "            if Option == 2:\n",
    "                print(\"Enter The Amount\")\n",
    "                Widhdrawl_AMT=int(input(\"ENter the Amount\"))\n",
    "                Amount= (balance - Widhdrawl_AMT)\n",
    "                print(\"Your Account balance is\", Amount)\n",
    "                \n",
    "            if Option == 3:\n",
    "                Deposit=int(input(\"Enter the Deposit Amount - \"))\n",
    "                print(\"Insert the Notes into deposite Box\")\n",
    "                Update_balance = (balance + Deposit)\n",
    "                print(\"Your Updated Account Balance is\",Update_balance)\n",
    "                \n",
    "            if Option == 4:\n",
    "                print(\"Thank You\")\n",
    "            break\n",
    "        else:\n",
    "            print(\"Incorrect pin\")\n",
    "    break\n",
    "    \n",
    "\n",
    "        \n"
   ]
  },
  {
   "cell_type": "code",
   "execution_count": null,
   "id": "3920bd8b",
   "metadata": {},
   "outputs": [],
   "source": []
  }
 ],
 "metadata": {
  "kernelspec": {
   "display_name": "Python 3 (ipykernel)",
   "language": "python",
   "name": "python3"
  },
  "language_info": {
   "codemirror_mode": {
    "name": "ipython",
    "version": 3
   },
   "file_extension": ".py",
   "mimetype": "text/x-python",
   "name": "python",
   "nbconvert_exporter": "python",
   "pygments_lexer": "ipython3",
   "version": "3.10.9"
  }
 },
 "nbformat": 4,
 "nbformat_minor": 5
}

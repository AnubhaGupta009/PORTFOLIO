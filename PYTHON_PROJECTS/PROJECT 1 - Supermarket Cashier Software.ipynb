{
 "cells": [
  {
   "cell_type": "markdown",
   "id": "ac9ede81",
   "metadata": {},
   "source": [
    "# PROJECT 1 \n",
    "\n",
    "#Creat a small Supermarket Cashier Software using the python"
   ]
  },
  {
   "cell_type": "code",
   "execution_count": 1,
   "id": "704bee34",
   "metadata": {},
   "outputs": [],
   "source": [
    "%matplotlib inline\n",
    "import pandas as pd\n",
    "import matplotlib.pyplot as plt\n",
    "import seaborn as sns"
   ]
  },
  {
   "cell_type": "code",
   "execution_count": 2,
   "id": "639c70cc",
   "metadata": {},
   "outputs": [
    {
     "name": "stdout",
     "output_type": "stream",
     "text": [
      "Press A to add product and Q to quitA\n",
      "Enter Product:Bread\n",
      "Enter quantity:32\n",
      "Press A to add product and Q to quitA\n",
      "Enter Product:Coke\n",
      "Enter quantity:3\n",
      "Press A to add product and Q to quitQ\n",
      "Enter customer membership : Gold\n",
      "Bread:$23x32736\n",
      "Coke:$10x330\n",
      "20% off forGold membership on total amount\"$612.8000000000001\n",
      "The discounted amount is $612.8000000000001\n"
     ]
    }
   ],
   "source": [
    "def enterProduct():\n",
    "    buyingData={}\n",
    "    enterDetails=True\n",
    "    while enterDetails:\n",
    "        details=input('Press A to add product and Q to quit')\n",
    "        if details == 'A':\n",
    "            product = input('Enter Product:')\n",
    "            quantity = int(input('Enter quantity:'))\n",
    "            buyingData.update({product:quantity})\n",
    "        elif details =='Q':\n",
    "            enterDetails = False\n",
    "        else:\n",
    "            print('Please select a correct option')\n",
    "    return buyingData\n",
    "\n",
    "def getPrice(product,quantity):\n",
    "    priceData={\n",
    "        'Biscuit':3,\n",
    "        'Chocolate':5,\n",
    "        'Coke':10,\n",
    "        'Bread':23,\n",
    "        'Apple':43,\n",
    "        'onion':23\n",
    "    }\n",
    "    subtotal=priceData[product]*quantity\n",
    "    print(product+':$'+str(priceData[product])+'x'+str(quantity)+str(subtotal))\n",
    "    return subtotal\n",
    "\n",
    "def getDiscount(billAmount,membership):\n",
    "    discount=0\n",
    "    if billAmount>=25:\n",
    "        if membership == 'Gold':\n",
    "            billAmount=billAmount*0.80\n",
    "            discount=20\n",
    "        elif membership == 'Silver':\n",
    "            billAmount=billAmount*0.90\n",
    "            discount=10\n",
    "        elif membership == 'Bronze':\n",
    "            billAmount=billAmount*0.95\n",
    "            discount=5\n",
    "        print(str(discount)+'% off for'+membership+\n",
    "              \" \"+'membership on total amount\"$'+str(billAmount))\n",
    "    else:\n",
    "        print('No discount on amount less than $25')     \n",
    "    return billAmount    \n",
    "\n",
    "def makebill(buyingData,membership):\n",
    "    billAmount=0\n",
    "    for key,value in buyingData.items():\n",
    "        billAmount += getPrice(key,value)\n",
    "    billAmount = getDiscount(billAmount,membership)\n",
    "    print('The discounted amount is $' + str(billAmount))\n",
    "    \n",
    "buyingData=enterProduct()\n",
    "membership=input('Enter customer membership : ')\n",
    "makebill(buyingData,membership)  \n",
    "\n",
    "\n",
    "        "
   ]
  }
 ],
 "metadata": {
  "kernelspec": {
   "display_name": "Python 3 (ipykernel)",
   "language": "python",
   "name": "python3"
  },
  "language_info": {
   "codemirror_mode": {
    "name": "ipython",
    "version": 3
   },
   "file_extension": ".py",
   "mimetype": "text/x-python",
   "name": "python",
   "nbconvert_exporter": "python",
   "pygments_lexer": "ipython3",
   "version": "3.10.9"
  }
 },
 "nbformat": 4,
 "nbformat_minor": 5
}
